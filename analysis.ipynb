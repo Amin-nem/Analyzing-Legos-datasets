{
 "cells": [
  {
   "cell_type": "markdown",
   "metadata": {},
   "source": [
    "Questions:\n",
    "1. What percentage of all licensed sets ever released were Star Wars themed?\n",
    "\n",
    "2. In which year was Star Wars not the most popular licensed theme (in terms of number of sets releasel that year)?"
   ]
  },
  {
   "cell_type": "code",
   "execution_count": 1,
   "metadata": {},
   "outputs": [],
   "source": [
    "import polars as pl"
   ]
  },
  {
   "cell_type": "code",
   "execution_count": 2,
   "metadata": {},
   "outputs": [],
   "source": [
    "df = pl.read_csv('lego_sets.csv')\n",
    "parent_themes = pl.read_csv('parent_themes.csv')\n"
   ]
  },
  {
   "cell_type": "markdown",
   "metadata": {},
   "source": [
    "missing **set_num** indicates a duplicate or invalid row"
   ]
  },
  {
   "cell_type": "code",
   "execution_count": 3,
   "metadata": {},
   "outputs": [],
   "source": [
    "df = df.filter(pl.col('set_num').is_not_null())"
   ]
  },
  {
   "cell_type": "code",
   "execution_count": 4,
   "metadata": {},
   "outputs": [],
   "source": [
    "merged = parent_themes.filter(pl.col('is_licensed')).join(df,how='left',left_on='name',right_on='parent_theme')"
   ]
  },
  {
   "cell_type": "code",
   "execution_count": 5,
   "metadata": {},
   "outputs": [],
   "source": [
    "num_licenced_starwars_themed_legos = merged.filter(pl.col('name').str.contains('Star Wars')).shape[0]"
   ]
  },
  {
   "cell_type": "code",
   "execution_count": 6,
   "metadata": {},
   "outputs": [],
   "source": [
    "num_all_licencedlegos = merged.shape[0]"
   ]
  },
  {
   "cell_type": "code",
   "execution_count": 7,
   "metadata": {},
   "outputs": [
    {
     "data": {
      "text/plain": [
       "51.65"
      ]
     },
     "execution_count": 7,
     "metadata": {},
     "output_type": "execute_result"
    }
   ],
   "source": [
    "answer1 = round(num_licenced_starwars_themed_legos/num_all_licencedlegos * 100,2)\n",
    "answer1"
   ]
  },
  {
   "cell_type": "markdown",
   "metadata": {},
   "source": [
    "The percentage of all licensed sets ever released that were Star Wars themed is **51.65**."
   ]
  },
  {
   "cell_type": "markdown",
   "metadata": {},
   "source": [
    "Q2"
   ]
  },
  {
   "cell_type": "code",
   "execution_count": 8,
   "metadata": {},
   "outputs": [],
   "source": [
    "df_licensed = df.join(parent_themes.filter(pl.col('is_licensed')),left_on='parent_theme',right_on='name',how='inner')"
   ]
  },
  {
   "cell_type": "code",
   "execution_count": 10,
   "metadata": {},
   "outputs": [
    {
     "data": {
      "text/html": [
       "<div><style>\n",
       ".dataframe > thead > tr,\n",
       ".dataframe > tbody > tr {\n",
       "  text-align: right;\n",
       "  white-space: pre-wrap;\n",
       "}\n",
       "</style>\n",
       "<small>shape: (1, 3)</small><table border=\"1\" class=\"dataframe\"><thead><tr><th>year</th><th>parent_theme</th><th>most_popular</th></tr><tr><td>i64</td><td>str</td><td>u32</td></tr></thead><tbody><tr><td>2017</td><td>&quot;Super Heroes&quot;</td><td>72</td></tr></tbody></table></div>"
      ],
      "text/plain": [
       "shape: (1, 3)\n",
       "┌──────┬──────────────┬──────────────┐\n",
       "│ year ┆ parent_theme ┆ most_popular │\n",
       "│ ---  ┆ ---          ┆ ---          │\n",
       "│ i64  ┆ str          ┆ u32          │\n",
       "╞══════╪══════════════╪══════════════╡\n",
       "│ 2017 ┆ Super Heroes ┆ 72           │\n",
       "└──────┴──────────────┴──────────────┘"
      ]
     },
     "execution_count": 10,
     "metadata": {},
     "output_type": "execute_result"
    }
   ],
   "source": [
    "df_licensed.group_by(pl.col(['year','parent_theme'])).len().sort(['year','len']).unique(subset='year',keep='last').sort('year').rename({'len':'most_popular'}).filter(pl.col('parent_theme') != 'Star Wars')"
   ]
  },
  {
   "cell_type": "markdown",
   "metadata": {},
   "source": [
    "The most popluar, licensed theme surpassing Star Wars is **Super Heroes** and it happend in **2017** with **72** releases."
   ]
  }
 ],
 "metadata": {
  "kernelspec": {
   "display_name": "venv",
   "language": "python",
   "name": "python3"
  },
  "language_info": {
   "codemirror_mode": {
    "name": "ipython",
    "version": 3
   },
   "file_extension": ".py",
   "mimetype": "text/x-python",
   "name": "python",
   "nbconvert_exporter": "python",
   "pygments_lexer": "ipython3",
   "version": "3.11.9"
  }
 },
 "nbformat": 4,
 "nbformat_minor": 2
}
